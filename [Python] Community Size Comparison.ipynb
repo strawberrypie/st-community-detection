{
 "cells": [
  {
   "cell_type": "code",
   "execution_count": 1,
   "metadata": {
    "collapsed": true
   },
   "outputs": [],
   "source": [
    "import pandas as pd\n",
    "from sklearn import preprocessing\n",
    "\n",
    "import matplotlib.pyplot as plt\n",
    "import seaborn as sns\n",
    "\n",
    "%matplotlib inline"
   ]
  },
  {
   "cell_type": "code",
   "execution_count": 2,
   "metadata": {
    "collapsed": true
   },
   "outputs": [],
   "source": [
    "locations = pd.read_csv('data/loc-brightkite_totalCheckins.txt', sep='\\t',\n",
    "                        header=None, names=['Id', 'Timestamp', 'Lat', 'Long', 'LocationId'],\n",
    "                        dtype={'Id': int, 'Lat': float, 'Long': float},  parse_dates=[1])\n",
    "locations = locations[locations.LocationId.astype(str).apply(len) > 27] # cleaning empty locations\n",
    "locations = locations[(locations.Lat != 0) | (locations.Long != 0)] # cleaning locations like (0, 0)\n",
    "locations.Timestamp = locations.Timestamp.astype(int) # // 10 ** 9"
   ]
  },
  {
   "cell_type": "code",
   "execution_count": 3,
   "metadata": {},
   "outputs": [
    {
     "name": "stderr",
     "output_type": "stream",
     "text": [
      "/usr/local/lib/python3.6/site-packages/sklearn/preprocessing/data.py:160: UserWarning: Numerical issues were encountered when centering the data and might not be solved. Dataset may contain too large values. You may need to prescale your features.\n",
      "  warnings.warn(\"Numerical issues were encountered \"\n"
     ]
    }
   ],
   "source": [
    "locations[['Lat', 'Long', 'Timestamp']] = preprocessing.scale(locations[['Lat', 'Long', 'Timestamp']], axis=0)"
   ]
  },
  {
   "cell_type": "code",
   "execution_count": 40,
   "metadata": {
    "collapsed": true
   },
   "outputs": [],
   "source": [
    "communities_arctan = pd.read_csv('data/brightkite_communities.arctan.csv',\n",
    "                                 header=None, sep=' ', names=['Id', 'CommunityId'])\n",
    "communities_uniform = pd.read_csv('data/brightkite_communities.uniform.csv',\n",
    "                                  header=None, sep=' ', names=['Id', 'CommunityId'])\n",
    "communities_exp = pd.read_csv('data/brightkite_communities.exp.csv',\n",
    "                              header=None, sep=' ', names=['Id', 'CommunityId'])"
   ]
  },
  {
   "cell_type": "code",
   "execution_count": 5,
   "metadata": {},
   "outputs": [
    {
     "data": {
      "text/plain": [
       "16084"
      ]
     },
     "execution_count": 5,
     "metadata": {},
     "output_type": "execute_result"
    }
   ],
   "source": [
    "len(set(communities_uniform.CommunityId))"
   ]
  },
  {
   "cell_type": "code",
   "execution_count": 6,
   "metadata": {},
   "outputs": [
    {
     "data": {
      "text/plain": [
       "36808"
      ]
     },
     "execution_count": 6,
     "metadata": {},
     "output_type": "execute_result"
    }
   ],
   "source": [
    "len(set(communities_exp.CommunityId))"
   ]
  },
  {
   "cell_type": "code",
   "execution_count": 7,
   "metadata": {
    "collapsed": true
   },
   "outputs": [],
   "source": [
    "uniform_counts = communities_uniform.groupby('CommunityId', as_index=False) \\\n",
    "    .count() \\\n",
    "    .sort_values('Id') \\\n",
    "    .rename(index=str, columns={'Id' : 'Counts'})"
   ]
  },
  {
   "cell_type": "code",
   "execution_count": 8,
   "metadata": {
    "collapsed": true
   },
   "outputs": [],
   "source": [
    "st_counts_exp = communities_exp.groupby('CommunityId', as_index=False) \\\n",
    "    .count() \\\n",
    "    .sort_values('Id') \\\n",
    "    .rename(index=str, columns={'Id' : 'Counts'})"
   ]
  },
  {
   "cell_type": "code",
   "execution_count": 41,
   "metadata": {
    "collapsed": true
   },
   "outputs": [],
   "source": [
    "st_counts_tan = communities_arctan.groupby('CommunityId', as_index=False) \\\n",
    "    .count() \\\n",
    "    .sort_values('Id') \\\n",
    "    .rename(index=str, columns={'Id' : 'Counts'})"
   ]
  },
  {
   "cell_type": "code",
   "execution_count": 42,
   "metadata": {},
   "outputs": [
    {
     "data": {
      "text/plain": [
       "count    26840.000000\n",
       "mean         2.169449\n",
       "std          7.483667\n",
       "min          1.000000\n",
       "25%          1.000000\n",
       "50%          1.000000\n",
       "75%          2.000000\n",
       "max        581.000000\n",
       "Name: Counts, dtype: float64"
      ]
     },
     "execution_count": 42,
     "metadata": {},
     "output_type": "execute_result"
    }
   ],
   "source": [
    "st_counts_tan.Counts.describe()"
   ]
  },
  {
   "cell_type": "code",
   "execution_count": 32,
   "metadata": {},
   "outputs": [
    {
     "data": {
      "text/plain": [
       "80.75100000000384"
      ]
     },
     "execution_count": 32,
     "metadata": {},
     "output_type": "execute_result"
    }
   ],
   "source": [
    "st_counts.Counts.quantile(0.999)"
   ]
  },
  {
   "cell_type": "code",
   "execution_count": 44,
   "metadata": {},
   "outputs": [
    {
     "data": {
      "text/plain": [
       "6761"
      ]
     },
     "execution_count": 44,
     "metadata": {},
     "output_type": "execute_result"
    }
   ],
   "source": [
    "len(st_counts_tan.Counts[st_counts_tan.Counts > 1])"
   ]
  },
  {
   "cell_type": "code",
   "execution_count": 62,
   "metadata": {},
   "outputs": [
    {
     "data": {
      "text/plain": [
       "1.0"
      ]
     },
     "execution_count": 62,
     "metadata": {},
     "output_type": "execute_result"
    }
   ],
   "source": [
    "st_counts_tan.Counts.median()"
   ]
  },
  {
   "cell_type": "code",
   "execution_count": 60,
   "metadata": {},
   "outputs": [
    {
     "data": {
      "text/plain": [
       "<matplotlib.legend.Legend at 0x1122a8a20>"
      ]
     },
     "execution_count": 60,
     "metadata": {},
     "output_type": "execute_result"
    },
    {
     "data": {
      "image/png": "[encoded data removed]",
      "text/plain": [
       "<matplotlib.figure.Figure at 0x1123e4978>"
      ]
     },
     "metadata": {},
     "output_type": "display_data"
    }
   ],
   "source": [
    "plt.figure(figsize=(15, 7))\n",
    "\n",
    "# plt.yscale('log')\n",
    "# plt.xscale('log')\n",
    "limit = 12\n",
    "plt.xlabel('Community Size')\n",
    "sns.kdeplot(data=st_counts.Counts[st_counts.Counts < limit], shade=True, kernel='gau', gridsize=500)\n",
    "sns.kdeplot(data=st_counts_tan.Counts[st_counts_tan.Counts < limit], shade=True, kernel='gau', gridsize=500)\n",
    "sns.kdeplot(data=uniform_counts.Counts[uniform_counts.Counts < limit], shade=True, kernel='gau', gridsize=500)\n",
    "plt.legend(['Spatio-Temporal Exp', 'Spatio-Temporal Tan', 'Uniform'], fontsize='x-large')"
   ]
  },
  {
   "cell_type": "code",
   "execution_count": 139,
   "metadata": {},
   "outputs": [
    {
     "data": {
      "text/html": [
       "<div>\n",
       "<style>\n",
       "    .dataframe thead tr:only-child th {\n",
       "        text-align: right;\n",
       "    }\n",
       "\n",
       "    .dataframe thead th {\n",
       "        text-align: left;\n",
       "    }\n",
       "\n",
       "    .dataframe tbody tr th {\n",
       "        vertical-align: top;\n",
       "    }\n",
       "</style>\n",
       "<table border=\"1\" class=\"dataframe\">\n",
       "  <thead>\n",
       "    <tr style=\"text-align: right;\">\n",
       "      <th></th>\n",
       "      <th>CommunityId</th>\n",
       "      <th>Counts</th>\n",
       "    </tr>\n",
       "  </thead>\n",
       "  <tbody>\n",
       "    <tr>\n",
       "      <th>1086</th>\n",
       "      <td>1604</td>\n",
       "      <td>21</td>\n",
       "    </tr>\n",
       "    <tr>\n",
       "      <th>30173</th>\n",
       "      <td>48164</td>\n",
       "      <td>21</td>\n",
       "    </tr>\n",
       "    <tr>\n",
       "      <th>22116</th>\n",
       "      <td>35646</td>\n",
       "      <td>21</td>\n",
       "    </tr>\n",
       "    <tr>\n",
       "      <th>1695</th>\n",
       "      <td>2625</td>\n",
       "      <td>21</td>\n",
       "    </tr>\n",
       "    <tr>\n",
       "      <th>12458</th>\n",
       "      <td>20050</td>\n",
       "      <td>21</td>\n",
       "    </tr>\n",
       "    <tr>\n",
       "      <th>14234</th>\n",
       "      <td>22950</td>\n",
       "      <td>21</td>\n",
       "    </tr>\n",
       "    <tr>\n",
       "      <th>19367</th>\n",
       "      <td>31467</td>\n",
       "      <td>21</td>\n",
       "    </tr>\n",
       "    <tr>\n",
       "      <th>7519</th>\n",
       "      <td>11920</td>\n",
       "      <td>21</td>\n",
       "    </tr>\n",
       "    <tr>\n",
       "      <th>26441</th>\n",
       "      <td>42387</td>\n",
       "      <td>21</td>\n",
       "    </tr>\n",
       "    <tr>\n",
       "      <th>24635</th>\n",
       "      <td>39576</td>\n",
       "      <td>21</td>\n",
       "    </tr>\n",
       "    <tr>\n",
       "      <th>115</th>\n",
       "      <td>148</td>\n",
       "      <td>21</td>\n",
       "    </tr>\n",
       "    <tr>\n",
       "      <th>8101</th>\n",
       "      <td>12913</td>\n",
       "      <td>21</td>\n",
       "    </tr>\n",
       "    <tr>\n",
       "      <th>10330</th>\n",
       "      <td>16663</td>\n",
       "      <td>21</td>\n",
       "    </tr>\n",
       "    <tr>\n",
       "      <th>12264</th>\n",
       "      <td>19733</td>\n",
       "      <td>21</td>\n",
       "    </tr>\n",
       "    <tr>\n",
       "      <th>7398</th>\n",
       "      <td>11698</td>\n",
       "      <td>22</td>\n",
       "    </tr>\n",
       "    <tr>\n",
       "      <th>3231</th>\n",
       "      <td>5012</td>\n",
       "      <td>22</td>\n",
       "    </tr>\n",
       "    <tr>\n",
       "      <th>5746</th>\n",
       "      <td>9017</td>\n",
       "      <td>22</td>\n",
       "    </tr>\n",
       "    <tr>\n",
       "      <th>8849</th>\n",
       "      <td>14152</td>\n",
       "      <td>22</td>\n",
       "    </tr>\n",
       "    <tr>\n",
       "      <th>7338</th>\n",
       "      <td>11612</td>\n",
       "      <td>22</td>\n",
       "    </tr>\n",
       "    <tr>\n",
       "      <th>14819</th>\n",
       "      <td>23949</td>\n",
       "      <td>22</td>\n",
       "    </tr>\n",
       "    <tr>\n",
       "      <th>1483</th>\n",
       "      <td>2249</td>\n",
       "      <td>22</td>\n",
       "    </tr>\n",
       "    <tr>\n",
       "      <th>3822</th>\n",
       "      <td>6016</td>\n",
       "      <td>22</td>\n",
       "    </tr>\n",
       "    <tr>\n",
       "      <th>20395</th>\n",
       "      <td>33060</td>\n",
       "      <td>22</td>\n",
       "    </tr>\n",
       "    <tr>\n",
       "      <th>1349</th>\n",
       "      <td>2009</td>\n",
       "      <td>22</td>\n",
       "    </tr>\n",
       "    <tr>\n",
       "      <th>5898</th>\n",
       "      <td>9316</td>\n",
       "      <td>22</td>\n",
       "    </tr>\n",
       "    <tr>\n",
       "      <th>5075</th>\n",
       "      <td>7937</td>\n",
       "      <td>22</td>\n",
       "    </tr>\n",
       "    <tr>\n",
       "      <th>1852</th>\n",
       "      <td>2854</td>\n",
       "      <td>22</td>\n",
       "    </tr>\n",
       "    <tr>\n",
       "      <th>13422</th>\n",
       "      <td>21606</td>\n",
       "      <td>22</td>\n",
       "    </tr>\n",
       "    <tr>\n",
       "      <th>3381</th>\n",
       "      <td>5227</td>\n",
       "      <td>22</td>\n",
       "    </tr>\n",
       "    <tr>\n",
       "      <th>8620</th>\n",
       "      <td>13781</td>\n",
       "      <td>22</td>\n",
       "    </tr>\n",
       "    <tr>\n",
       "      <th>...</th>\n",
       "      <td>...</td>\n",
       "      <td>...</td>\n",
       "    </tr>\n",
       "    <tr>\n",
       "      <th>10987</th>\n",
       "      <td>17569</td>\n",
       "      <td>30</td>\n",
       "    </tr>\n",
       "    <tr>\n",
       "      <th>6241</th>\n",
       "      <td>9887</td>\n",
       "      <td>31</td>\n",
       "    </tr>\n",
       "    <tr>\n",
       "      <th>11403</th>\n",
       "      <td>18302</td>\n",
       "      <td>31</td>\n",
       "    </tr>\n",
       "    <tr>\n",
       "      <th>8099</th>\n",
       "      <td>12910</td>\n",
       "      <td>31</td>\n",
       "    </tr>\n",
       "    <tr>\n",
       "      <th>5089</th>\n",
       "      <td>7953</td>\n",
       "      <td>31</td>\n",
       "    </tr>\n",
       "    <tr>\n",
       "      <th>133</th>\n",
       "      <td>168</td>\n",
       "      <td>33</td>\n",
       "    </tr>\n",
       "    <tr>\n",
       "      <th>2314</th>\n",
       "      <td>3558</td>\n",
       "      <td>33</td>\n",
       "    </tr>\n",
       "    <tr>\n",
       "      <th>10948</th>\n",
       "      <td>17514</td>\n",
       "      <td>33</td>\n",
       "    </tr>\n",
       "    <tr>\n",
       "      <th>317</th>\n",
       "      <td>405</td>\n",
       "      <td>33</td>\n",
       "    </tr>\n",
       "    <tr>\n",
       "      <th>369</th>\n",
       "      <td>493</td>\n",
       "      <td>34</td>\n",
       "    </tr>\n",
       "    <tr>\n",
       "      <th>5521</th>\n",
       "      <td>8645</td>\n",
       "      <td>34</td>\n",
       "    </tr>\n",
       "    <tr>\n",
       "      <th>3060</th>\n",
       "      <td>4728</td>\n",
       "      <td>36</td>\n",
       "    </tr>\n",
       "    <tr>\n",
       "      <th>348</th>\n",
       "      <td>457</td>\n",
       "      <td>36</td>\n",
       "    </tr>\n",
       "    <tr>\n",
       "      <th>19199</th>\n",
       "      <td>31185</td>\n",
       "      <td>37</td>\n",
       "    </tr>\n",
       "    <tr>\n",
       "      <th>866</th>\n",
       "      <td>1236</td>\n",
       "      <td>37</td>\n",
       "    </tr>\n",
       "    <tr>\n",
       "      <th>4291</th>\n",
       "      <td>6746</td>\n",
       "      <td>39</td>\n",
       "    </tr>\n",
       "    <tr>\n",
       "      <th>4853</th>\n",
       "      <td>7607</td>\n",
       "      <td>39</td>\n",
       "    </tr>\n",
       "    <tr>\n",
       "      <th>3827</th>\n",
       "      <td>6023</td>\n",
       "      <td>40</td>\n",
       "    </tr>\n",
       "    <tr>\n",
       "      <th>9054</th>\n",
       "      <td>14538</td>\n",
       "      <td>40</td>\n",
       "    </tr>\n",
       "    <tr>\n",
       "      <th>11167</th>\n",
       "      <td>17882</td>\n",
       "      <td>42</td>\n",
       "    </tr>\n",
       "    <tr>\n",
       "      <th>18373</th>\n",
       "      <td>29729</td>\n",
       "      <td>42</td>\n",
       "    </tr>\n",
       "    <tr>\n",
       "      <th>8828</th>\n",
       "      <td>14111</td>\n",
       "      <td>43</td>\n",
       "    </tr>\n",
       "    <tr>\n",
       "      <th>4013</th>\n",
       "      <td>6344</td>\n",
       "      <td>46</td>\n",
       "    </tr>\n",
       "    <tr>\n",
       "      <th>11061</th>\n",
       "      <td>17695</td>\n",
       "      <td>50</td>\n",
       "    </tr>\n",
       "    <tr>\n",
       "      <th>5099</th>\n",
       "      <td>7969</td>\n",
       "      <td>52</td>\n",
       "    </tr>\n",
       "    <tr>\n",
       "      <th>9332</th>\n",
       "      <td>15024</td>\n",
       "      <td>57</td>\n",
       "    </tr>\n",
       "    <tr>\n",
       "      <th>932</th>\n",
       "      <td>1353</td>\n",
       "      <td>67</td>\n",
       "    </tr>\n",
       "    <tr>\n",
       "      <th>10068</th>\n",
       "      <td>16240</td>\n",
       "      <td>68</td>\n",
       "    </tr>\n",
       "    <tr>\n",
       "      <th>8721</th>\n",
       "      <td>13917</td>\n",
       "      <td>91</td>\n",
       "    </tr>\n",
       "    <tr>\n",
       "      <th>12545</th>\n",
       "      <td>20193</td>\n",
       "      <td>94</td>\n",
       "    </tr>\n",
       "  </tbody>\n",
       "</table>\n",
       "<p>106 rows × 2 columns</p>\n",
       "</div>"
      ],
      "text/plain": [
       "       CommunityId  Counts\n",
       "1086          1604      21\n",
       "30173        48164      21\n",
       "22116        35646      21\n",
       "1695          2625      21\n",
       "12458        20050      21\n",
       "14234        22950      21\n",
       "19367        31467      21\n",
       "7519         11920      21\n",
       "26441        42387      21\n",
       "24635        39576      21\n",
       "115            148      21\n",
       "8101         12913      21\n",
       "10330        16663      21\n",
       "12264        19733      21\n",
       "7398         11698      22\n",
       "3231          5012      22\n",
       "5746          9017      22\n",
       "8849         14152      22\n",
       "7338         11612      22\n",
       "14819        23949      22\n",
       "1483          2249      22\n",
       "3822          6016      22\n",
       "20395        33060      22\n",
       "1349          2009      22\n",
       "5898          9316      22\n",
       "5075          7937      22\n",
       "1852          2854      22\n",
       "13422        21606      22\n",
       "3381          5227      22\n",
       "8620         13781      22\n",
       "...            ...     ...\n",
       "10987        17569      30\n",
       "6241          9887      31\n",
       "11403        18302      31\n",
       "8099         12910      31\n",
       "5089          7953      31\n",
       "133            168      33\n",
       "2314          3558      33\n",
       "10948        17514      33\n",
       "317            405      33\n",
       "369            493      34\n",
       "5521          8645      34\n",
       "3060          4728      36\n",
       "348            457      36\n",
       "19199        31185      37\n",
       "866           1236      37\n",
       "4291          6746      39\n",
       "4853          7607      39\n",
       "3827          6023      40\n",
       "9054         14538      40\n",
       "11167        17882      42\n",
       "18373        29729      42\n",
       "8828         14111      43\n",
       "4013          6344      46\n",
       "11061        17695      50\n",
       "5099          7969      52\n",
       "9332         15024      57\n",
       "932           1353      67\n",
       "10068        16240      68\n",
       "8721         13917      91\n",
       "12545        20193      94\n",
       "\n",
       "[106 rows x 2 columns]"
      ]
     },
     "execution_count": 139,
     "metadata": {},
     "output_type": "execute_result"
    }
   ],
   "source": [
    "st_counts[st_counts.Counts > 20]"
   ]
  },
  {
   "cell_type": "code",
   "execution_count": 117,
   "metadata": {},
   "outputs": [
    {
     "data": {
      "text/plain": [
       "<bound method DataFrameGroupBy.count of <pandas.core.groupby.DataFrameGroupBy object at 0x11a4a0e80>>"
      ]
     },
     "execution_count": 117,
     "metadata": {},
     "output_type": "execute_result"
    }
   ],
   "source": [
    "communities_uniform.groupby('CommunityId', as_index=False).count"
   ]
  },
  {
   "cell_type": "code",
   "execution_count": 118,
   "metadata": {},
   "outputs": [
    {
     "data": {
      "text/plain": [
       "<bound method DataFrameGroupBy.count of <pandas.core.groupby.DataFrameGroupBy object at 0x11a4a0518>>"
      ]
     },
     "execution_count": 118,
     "metadata": {},
     "output_type": "execute_result"
    }
   ],
   "source": [
    "communities_uniform.groupby('CommunityId', as_index=False).count"
   ]
  },
  {
   "cell_type": "code",
   "execution_count": 8,
   "metadata": {
    "collapsed": true
   },
   "outputs": [],
   "source": [
    "# len(set(communities_arctan.CommunityId))"
   ]
  },
  {
   "cell_type": "code",
   "execution_count": 9,
   "metadata": {
    "collapsed": true
   },
   "outputs": [],
   "source": [
    "def community_size(community):\n",
    "    return (community.Lat.max() - community.Lat.min()) * \\\n",
    "           (community.Long.max() - community.Long.min()) * \\\n",
    "           (community.Timestamp.max() - community.Timestamp.min())"
   ]
  },
  {
   "cell_type": "code",
   "execution_count": 10,
   "metadata": {
    "collapsed": true
   },
   "outputs": [],
   "source": [
    "# st_community_sizes = communities_arctan \\\n",
    "#     .merge(locations, on='Id') \\\n",
    "#     .groupby(by='CommunityId') \\\n",
    "#     .apply(community_size)"
   ]
  },
  {
   "cell_type": "code",
   "execution_count": 11,
   "metadata": {
    "collapsed": true
   },
   "outputs": [],
   "source": [
    "st_community_sizes_exp = communities_exp \\\n",
    "    .merge(locations, on='Id') \\\n",
    "    .groupby(by='CommunityId') \\\n",
    "    .apply(community_size)"
   ]
  },
  {
   "cell_type": "code",
   "execution_count": 12,
   "metadata": {
    "collapsed": true
   },
   "outputs": [],
   "source": [
    "community_sizes = communities_uniform \\\n",
    "    .merge(locations, on='Id') \\\n",
    "    .groupby(by='CommunityId') \\\n",
    "    .apply(community_size)"
   ]
  },
  {
   "cell_type": "code",
   "execution_count": 82,
   "metadata": {},
   "outputs": [
    {
     "data": {
      "text/plain": [
       "<matplotlib.legend.Legend at 0x114c48e48>"
      ]
     },
     "execution_count": 82,
     "metadata": {},
     "output_type": "execute_result"
    },
    {
     "data": {
      "image/png": "[encoded data removed]",
      "text/plain": [
       "<matplotlib.figure.Figure at 0x117b8b550>"
      ]
     },
     "metadata": {},
     "output_type": "display_data"
    }
   ],
   "source": [
    "plt.figure(figsize=(14, 7))\n",
    "\n",
    "# plt.xscale('log')\n",
    "sns.kdeplot(data=st_community_sizes_exp, shade=True, kernel='gau', gridsize=500)\n",
    "sns.kdeplot(data=community_sizes, shade=True, kernel='gau', gridsize=500)\n",
    "plt.legend(['Spatio-Temporal', 'Uniform'], fontsize='x-large')"
   ]
  },
  {
   "cell_type": "code",
   "execution_count": 75,
   "metadata": {},
   "outputs": [
    {
     "data": {
      "image/png": "[encoded data removed]",
      "text/plain": [
       "<matplotlib.figure.Figure at 0x112d02b38>"
      ]
     },
     "metadata": {},
     "output_type": "display_data"
    }
   ],
   "source": [
    "plt.figure(figsize=(14, 7))\n",
    "\n",
    "data = [st_community_sizes_exp, community_sizes]\n",
    "\n",
    "for i in range(len(data)):\n",
    "    y = data[i]\n",
    "    x = np.random.normal(1+i, 0.04, size=len(y))\n",
    "    P.plot(x, y, '.', alpha=0.3, markersize=3)\n",
    "    \n",
    "bp = plt.boxplot(data, labels=['Spatio-Temporal', 'Uniform'], flierprops={'alpha': 0.01, 'markersize': 0})\n",
    "\n",
    "P.show()"
   ]
  },
  {
   "cell_type": "code",
   "execution_count": 78,
   "metadata": {},
   "outputs": [
    {
     "data": {
      "text/plain": [
       "<matplotlib.axes._subplots.AxesSubplot at 0x1129b2f98>"
      ]
     },
     "execution_count": 78,
     "metadata": {},
     "output_type": "execute_result"
    },
    {
     "data": {
      "image/png": "[encoded data removed]",
      "text/plain": [
       "<matplotlib.figure.Figure at 0x1175ac6d8>"
      ]
     },
     "metadata": {},
     "output_type": "display_data"
    }
   ],
   "source": [
    "plt.figure(figsize=(12, 5))\n",
    "plt.yscale('log', nonposy='clip')\n",
    "\n",
    "community_sizes.hist(bins=100, alpha=0.3)\n",
    "st_community_sizes_exp.hist(bins=100, alpha=0.3)"
   ]
  },
  {
   "cell_type": "code",
   "execution_count": 39,
   "metadata": {},
   "outputs": [
    {
     "data": {
      "text/plain": [
       "True"
      ]
     },
     "execution_count": 39,
     "metadata": {},
     "output_type": "execute_result"
    }
   ],
   "source": [
    "st_community_sizes_exp.mean() < community_sizes.mean()"
   ]
  },
  {
   "cell_type": "code",
   "execution_count": 43,
   "metadata": {
    "collapsed": true
   },
   "outputs": [],
   "source": [
    "biggest_uniform_id = community_sizes.argmax()"
   ]
  },
  {
   "cell_type": "code",
   "execution_count": 54,
   "metadata": {
    "collapsed": true
   },
   "outputs": [],
   "source": [
    "biggest_community = communities_uniform[communities_uniform.CommunityId == biggest_uniform_id][['Id']]"
   ]
  },
  {
   "cell_type": "code",
   "execution_count": 55,
   "metadata": {
    "collapsed": true
   },
   "outputs": [],
   "source": [
    "st_subcommunities = pd.merge(biggest_community, communities_exp, on='Id')"
   ]
  },
  {
   "cell_type": "code",
   "execution_count": 107,
   "metadata": {},
   "outputs": [
    {
     "data": {
      "text/html": [
       "<div>\n",
       "<table border=\"1\" class=\"dataframe\">\n",
       "  <thead>\n",
       "    <tr style=\"text-align: right;\">\n",
       "      <th></th>\n",
       "      <th>CommunityId</th>\n",
       "      <th>Id</th>\n",
       "    </tr>\n",
       "  </thead>\n",
       "  <tbody>\n",
       "    <tr>\n",
       "      <th>295</th>\n",
       "      <td>10652</td>\n",
       "      <td>17</td>\n",
       "    </tr>\n",
       "    <tr>\n",
       "      <th>286</th>\n",
       "      <td>10639</td>\n",
       "      <td>14</td>\n",
       "    </tr>\n",
       "    <tr>\n",
       "      <th>283</th>\n",
       "      <td>10634</td>\n",
       "      <td>12</td>\n",
       "    </tr>\n",
       "    <tr>\n",
       "      <th>571</th>\n",
       "      <td>16240</td>\n",
       "      <td>12</td>\n",
       "    </tr>\n",
       "    <tr>\n",
       "      <th>262</th>\n",
       "      <td>10559</td>\n",
       "      <td>9</td>\n",
       "    </tr>\n",
       "  </tbody>\n",
       "</table>\n",
       "</div>"
      ],
      "text/plain": [
       "     CommunityId  Id\n",
       "295        10652  17\n",
       "286        10639  14\n",
       "283        10634  12\n",
       "571        16240  12\n",
       "262        10559   9"
      ]
     },
     "execution_count": 107,
     "metadata": {},
     "output_type": "execute_result"
    }
   ],
   "source": [
    "biggest_subcommunities = st_subcommunities.groupby(by='CommunityId', as_index=False) \\\n",
    "    .count() \\\n",
    "    .sort_values(by='Id', ascending=False) \\\n",
    "    .head(5)\n",
    "biggest_subcommunities"
   ]
  },
  {
   "cell_type": "code",
   "execution_count": 112,
   "metadata": {
    "collapsed": true
   },
   "outputs": [],
   "source": [
    "# 38417, 35744, 10427, 21827, 2818, 11312\n",
    "jsonstr = pd.merge(st_subcommunities, locations, on='Id') \\\n",
    "            .groupby(by='Id', as_index=False) \\\n",
    "            .head(5) \\\n",
    "        .query(\"CommunityId in [10652, 10639, 10634]\") \\\n",
    "        .head(30000).to_json(orient='records')"
   ]
  },
  {
   "cell_type": "code",
   "execution_count": 113,
   "metadata": {
    "scrolled": false
   },
   "outputs": [
    {
     "data": {
      "text/html": [
       "<link rel=\"import\" href=\"/nbextensions/facets-dist/facets-jupyter.html\">\n",
       "        <facets-dive id=\"elem\" height=\"600\"></facets-dive>\n",
       "        <script>\n",
       "          var data = JSON.parse('[{\"Id\":10725,\"CommunityId\":10634,\"Timestamp\":2.3092104445,\"Lat\":-0.0905140301,\"Long\":2.0998533911,\"LocationId\":\"282a6e723a2111de83f8003048c0801e\"},{\"Id\":10725,\"CommunityId\":10634,\"Timestamp\":2.2508975319,\"Lat\":-0.0905140301,\"Long\":2.0998533911,\"LocationId\":\"282a6e723a2111de83f8003048c0801e\"},{\"Id\":10725,\"CommunityId\":10634,\"Timestamp\":2.2041521622,\"Lat\":-0.0905140301,\"Long\":2.0998533911,\"LocationId\":\"282a6e723a2111de83f8003048c0801e\"},{\"Id\":10725,\"CommunityId\":10634,\"Timestamp\":2.2022093378,\"Lat\":-0.0905140301,\"Long\":2.0998533911,\"LocationId\":\"282a6e723a2111de83f8003048c0801e\"},{\"Id\":10725,\"CommunityId\":10634,\"Timestamp\":2.2022037335,\"Lat\":-0.0905140301,\"Long\":2.0998533911,\"LocationId\":\"282a6e723a2111de83f8003048c0801e\"},{\"Id\":10731,\"CommunityId\":10639,\"Timestamp\":2.2409405237,\"Lat\":-0.0334403294,\"Long\":2.1353706956,\"LocationId\":\"3395bc00cc414c8d23b4be81120bd746\"},{\"Id\":10731,\"CommunityId\":10639,\"Timestamp\":2.1780383644,\"Lat\":-0.0244311596,\"Long\":2.132949082,\"LocationId\":\"c9554ed6318caf18b06d5a13b8c49921\"},{\"Id\":10731,\"CommunityId\":10639,\"Timestamp\":2.1129947471,\"Lat\":-0.0932820325,\"Long\":2.0983221313,\"LocationId\":\"0c592c0ee372e231b7a3c5109351a2e6\"},{\"Id\":10731,\"CommunityId\":10639,\"Timestamp\":2.0778732271,\"Lat\":-0.0215492985,\"Long\":2.1328666924,\"LocationId\":\"95cb6587fcd96ab7109a624f8b948d0c\"},{\"Id\":10731,\"CommunityId\":10639,\"Timestamp\":2.0436248599,\"Lat\":-0.0017725244,\"Long\":2.13535422,\"LocationId\":\"595d67b6f3d2862ac2288900bf9b7fe4\"},{\"Id\":10701,\"CommunityId\":10634,\"Timestamp\":2.2824767956,\"Lat\":-0.07377687,\"Long\":2.0993308227,\"LocationId\":\"a2f1a0f0a5c052542199d4009e5932d4\"},{\"Id\":10701,\"CommunityId\":10634,\"Timestamp\":2.2776856902,\"Lat\":-0.0827114449,\"Long\":2.0993416059,\"LocationId\":\"0c5e7eed9b456fe81d839fe6a461f729\"},{\"Id\":10701,\"CommunityId\":10634,\"Timestamp\":2.2740565679,\"Lat\":-0.0871742605,\"Long\":2.0991098019,\"LocationId\":\"c84258bcdecf88624fc96dfd8f655a99\"},{\"Id\":10701,\"CommunityId\":10634,\"Timestamp\":2.273856031,\"Lat\":-0.0900022053,\"Long\":2.0987474427,\"LocationId\":\"fc69f5b4e8e8e32b6c445937ceb0bd29\"},{\"Id\":10701,\"CommunityId\":10634,\"Timestamp\":2.2737268688,\"Lat\":-0.0878896989,\"Long\":2.0984417299,\"LocationId\":\"b5e114cbf656c20420e72ac65d8cf72b\"},{\"Id\":10635,\"CommunityId\":10652,\"Timestamp\":0.584558482,\"Lat\":-0.0378388259,\"Long\":2.1311069493,\"LocationId\":\"b9ccc69ea22411dd84decb3efb095ce9\"},{\"Id\":10635,\"CommunityId\":10652,\"Timestamp\":0.5799021959,\"Lat\":-0.0410103764,\"Long\":2.1311069493,\"LocationId\":\"b9db45a2a22411ddba4eb77cd90bd08a\"},{\"Id\":10635,\"CommunityId\":10652,\"Timestamp\":0.5795852385,\"Lat\":-0.050525028,\"Long\":2.1293714569,\"LocationId\":\"b9ce3448a22411dda323738415c1091a\"},{\"Id\":10635,\"CommunityId\":10652,\"Timestamp\":0.5795695889,\"Lat\":-0.050525028,\"Long\":2.1293714569,\"LocationId\":\"b9ce3448a22411dda323738415c1091a\"},{\"Id\":10635,\"CommunityId\":10652,\"Timestamp\":0.5794407969,\"Lat\":-0.0336100708,\"Long\":2.1322639443,\"LocationId\":\"b9c85c94a22411dd811dfb147b155588\"},{\"Id\":2862,\"CommunityId\":10639,\"Timestamp\":2.076974538,\"Lat\":-0.0332911397,\"Long\":2.1314416448,\"LocationId\":\"110d2ab20b4d063c53291fba07560c62\"},{\"Id\":2862,\"CommunityId\":10639,\"Timestamp\":2.045112524,\"Lat\":-0.0587715033,\"Long\":2.1293901192,\"LocationId\":\"0d7f22902f0a2d325a1341ce33092b18\"},{\"Id\":2862,\"CommunityId\":10639,\"Timestamp\":1.3289990827,\"Lat\":-0.0399321761,\"Long\":2.131755202,\"LocationId\":\"d50d925d5a7dbd85c9fcdcecc8cc57a8\"},{\"Id\":2862,\"CommunityId\":10639,\"Timestamp\":1.3246347463,\"Lat\":-0.0343411132,\"Long\":2.1268445104,\"LocationId\":\"c1e8d3b871e4b2d6d60e6267ab940697\"},{\"Id\":2862,\"CommunityId\":10639,\"Timestamp\":1.3196280888,\"Lat\":-0.0391951078,\"Long\":2.1317755536,\"LocationId\":\"fd442df137d62c7dbe801a3a870a23f6\"},{\"Id\":10611,\"CommunityId\":10634,\"Timestamp\":2.3051795081,\"Lat\":-0.0951261623,\"Long\":2.1030833161,\"LocationId\":\"1bf8df567f220ecdd9fb5f02a1b15d51\"},{\"Id\":10611,\"CommunityId\":10634,\"Timestamp\":2.2783602093,\"Lat\":-0.0940531633,\"Long\":2.1014475682,\"LocationId\":\"793475d6738abe81d3eb0de09dc927ff\"},{\"Id\":10611,\"CommunityId\":10634,\"Timestamp\":2.2739883124,\"Lat\":-0.0845656602,\"Long\":2.099979758,\"LocationId\":\"6c9d52b4761d464d4abaad918c47aa15\"},{\"Id\":10611,\"CommunityId\":10634,\"Timestamp\":2.2737506076,\"Lat\":-0.0843588117,\"Long\":2.1004575507,\"LocationId\":\"955eb8b83e52536643c75049a7d20538\"},{\"Id\":10611,\"CommunityId\":10634,\"Timestamp\":2.2410625483,\"Lat\":-0.0990534298,\"Long\":2.102417477,\"LocationId\":\"27073317b04e9268ab0474b0bf2aba4b\"},{\"Id\":10788,\"CommunityId\":10652,\"Timestamp\":0.7015509627,\"Lat\":-0.0855187746,\"Long\":2.1164713331,\"LocationId\":\"116cbc2a73b9a66a8e0a540162782782\"},{\"Id\":10788,\"CommunityId\":10652,\"Timestamp\":0.478727289,\"Lat\":-0.0857838528,\"Long\":2.1164502526,\"LocationId\":\"431af4669f5e11de98ef003048c0801e\"},{\"Id\":10788,\"CommunityId\":10652,\"Timestamp\":0.4787187768,\"Lat\":-0.0857838528,\"Long\":2.1164502526,\"LocationId\":\"431af4669f5e11de98ef003048c0801e\"},{\"Id\":10788,\"CommunityId\":10652,\"Timestamp\":0.3605547434,\"Lat\":-0.0968969024,\"Long\":2.1141663561,\"LocationId\":\"97b702948b0911de9c36003048c10834\"},{\"Id\":10788,\"CommunityId\":10652,\"Timestamp\":0.3598435323,\"Lat\":-0.642129759,\"Long\":1.9922916173,\"LocationId\":\"fefa50928aea11deb093003048c10834\"},{\"Id\":10737,\"CommunityId\":10639,\"Timestamp\":2.2137452113,\"Lat\":0.1202555457,\"Long\":2.1456178762,\"LocationId\":\"78c0f18f11ef56c2597bab8a73e4992f\"},{\"Id\":10737,\"CommunityId\":10639,\"Timestamp\":2.2096250299,\"Lat\":0.1202555457,\"Long\":2.1456178762,\"LocationId\":\"78c0f18f11ef56c2597bab8a73e4992f\"},{\"Id\":10737,\"CommunityId\":10639,\"Timestamp\":2.2096152489,\"Lat\":0.1202555457,\"Long\":2.1456178762,\"LocationId\":\"78c0f18f11ef56c2597bab8a73e4992f\"},{\"Id\":10737,\"CommunityId\":10639,\"Timestamp\":2.1993309207,\"Lat\":0.1202555457,\"Long\":2.1456178762,\"LocationId\":\"78c0f18f11ef56c2597bab8a73e4992f\"},{\"Id\":10737,\"CommunityId\":10639,\"Timestamp\":2.1954271902,\"Lat\":0.1203204991,\"Long\":2.145715758,\"LocationId\":\"b96b241e9a38f03e5d52b71a4c160c8c\"},{\"Id\":10785,\"CommunityId\":10652,\"Timestamp\":0.3769542605,\"Lat\":0.4273219584,\"Long\":2.1843287184,\"LocationId\":\"c56a5624a22411ddb202e31fc12a60f4\"},{\"Id\":10785,\"CommunityId\":10652,\"Timestamp\":0.3544307253,\"Lat\":0.4300001425,\"Long\":2.1495031695,\"LocationId\":\"c56ec286a22411dd88722f942bb93d89\"},{\"Id\":10785,\"CommunityId\":10652,\"Timestamp\":0.3519875893,\"Lat\":0.4209788573,\"Long\":2.1486868401,\"LocationId\":\"c56da52ca22411ddb4675bafbc3fdad4\"},{\"Id\":10785,\"CommunityId\":10652,\"Timestamp\":0.345069248,\"Lat\":0.3522618873,\"Long\":2.1430625602,\"LocationId\":\"c56b4adea22411dd9d815b28c4d60fad\"},{\"Id\":10785,\"CommunityId\":10652,\"Timestamp\":0.3217402339,\"Lat\":-0.0314957249,\"Long\":2.1303356155,\"LocationId\":\"b9c6a732a22411dd80dd7f4811ac394a\"},{\"Id\":10716,\"CommunityId\":10639,\"Timestamp\":2.2728032778,\"Lat\":-0.0608518502,\"Long\":2.0942165694,\"LocationId\":\"b0de78f167dcf275eb0bac57d8ee25df\"},{\"Id\":10716,\"CommunityId\":10639,\"Timestamp\":2.23636312,\"Lat\":-0.0608518502,\"Long\":2.0942165694,\"LocationId\":\"b0de78f167dcf275eb0bac57d8ee25df\"},{\"Id\":10773,\"CommunityId\":10652,\"Timestamp\":1.9718464139,\"Lat\":-0.1738474079,\"Long\":2.0239408563,\"LocationId\":\"21f7d5334323ec95dbb27d57fffd6d68\"},{\"Id\":10773,\"CommunityId\":10652,\"Timestamp\":1.8119367952,\"Lat\":0.0294481555,\"Long\":2.1388078501,\"LocationId\":\"9874c7143bf5569d0b51277ef303e0eb\"},{\"Id\":10773,\"CommunityId\":10652,\"Timestamp\":1.2465775309,\"Lat\":0.0287917714,\"Long\":2.1392563823,\"LocationId\":\"49e4d9a4eb17b1c12b8366419214e5e5\"},{\"Id\":10773,\"CommunityId\":10652,\"Timestamp\":1.0927310766,\"Lat\":0.0287917714,\"Long\":2.1392563823,\"LocationId\":\"49e4d9a4eb17b1c12b8366419214e5e5\"},{\"Id\":10773,\"CommunityId\":10652,\"Timestamp\":1.0655225996,\"Lat\":0.0287917714,\"Long\":2.1392563823,\"LocationId\":\"49e4d9a4eb17b1c12b8366419214e5e5\"},{\"Id\":10660,\"CommunityId\":10652,\"Timestamp\":1.8949079337,\"Lat\":-0.0559911319,\"Long\":2.1306581047,\"LocationId\":\"d9e2f4159169d5dc913f6de3f25e87d7\"},{\"Id\":10660,\"CommunityId\":10652,\"Timestamp\":1.8939994636,\"Lat\":-0.0555219961,\"Long\":2.1303709617,\"LocationId\":\"e348e57ea514fd31513fa732907eaa65\"},{\"Id\":10660,\"CommunityId\":10652,\"Timestamp\":1.8863753039,\"Lat\":-0.0398083588,\"Long\":2.1326370983,\"LocationId\":\"09c4661f2e01f3a650938a8f8763efdc\"},{\"Id\":10660,\"CommunityId\":10652,\"Timestamp\":1.8857799845,\"Lat\":-0.0397775313,\"Long\":2.1326260953,\"LocationId\":\"5dfb910a6dea11de9a39003048c0801e\"},{\"Id\":10660,\"CommunityId\":10652,\"Timestamp\":1.8857329299,\"Lat\":-0.0398239628,\"Long\":2.1326751866,\"LocationId\":\"4eb36a7843a86d3a0d385114b7de409a\"},{\"Id\":10345,\"CommunityId\":10639,\"Timestamp\":2.3055295094,\"Lat\":-0.0609213071,\"Long\":2.1303835729,\"LocationId\":\"2d2e209d46a39b346642e6a267635f57\"},{\"Id\":10345,\"CommunityId\":10639,\"Timestamp\":2.3046987058,\"Lat\":-0.0612168322,\"Long\":2.1297659112,\"LocationId\":\"9b2bf5d2e1b9a64c9b68ecc92425b713\"},{\"Id\":10345,\"CommunityId\":10639,\"Timestamp\":2.2999167998,\"Lat\":-0.0377092998,\"Long\":2.132866623,\"LocationId\":\"5b181e20cc1bb051d4fc79bff1c10d51\"},{\"Id\":10345,\"CommunityId\":10639,\"Timestamp\":2.2970307166,\"Lat\":-0.0403439068,\"Long\":2.1317265086,\"LocationId\":\"b3d037f674722f876c9f88c8b41f233c\"},{\"Id\":10345,\"CommunityId\":10639,\"Timestamp\":2.291730629,\"Lat\":-0.0402869458,\"Long\":2.1323881824,\"LocationId\":\"177da95beae10c9d8fda072971515b33\"},{\"Id\":10639,\"CommunityId\":10639,\"Timestamp\":1.8579309839,\"Lat\":-0.0312789811,\"Long\":2.1303007436,\"LocationId\":\"de437b7686520dd91ed0d4237bf37b75\"},{\"Id\":10639,\"CommunityId\":10639,\"Timestamp\":1.8401494905,\"Lat\":-0.0407694655,\"Long\":2.1318085164,\"LocationId\":\"cbfb688cab16c0ac4c2ede2ab44f2d88\"},{\"Id\":10768,\"CommunityId\":10634,\"Timestamp\":0.9460632442,\"Lat\":-0.0209238687,\"Long\":2.1120165322,\"LocationId\":\"b9d89b5ea22411dda5ef27ee20f87cee\"},{\"Id\":10768,\"CommunityId\":10634,\"Timestamp\":0.9441538866,\"Lat\":-0.6417048981,\"Long\":1.9926321557,\"LocationId\":\"c231fd50a92511de8bf6003048c0801e\"},{\"Id\":10768,\"CommunityId\":10634,\"Timestamp\":0.944146009,\"Lat\":-0.6417048981,\"Long\":1.9926321557,\"LocationId\":\"c231fd50a92511de8bf6003048c0801e\"},{\"Id\":10768,\"CommunityId\":10634,\"Timestamp\":0.9397972693,\"Lat\":-0.6412067744,\"Long\":1.9882626484,\"LocationId\":\"4570c5097643013cd6ea2e806b2950b2\"},{\"Id\":10768,\"CommunityId\":10634,\"Timestamp\":0.9352057492,\"Lat\":-0.6412067744,\"Long\":1.9882626484,\"LocationId\":\"4570c5097643013cd6ea2e806b2950b2\"},{\"Id\":10672,\"CommunityId\":10639,\"Timestamp\":2.2234217427,\"Lat\":-0.0395579966,\"Long\":2.1315216395,\"LocationId\":\"40b0c7457b2e62fed2804af959051b98\"},{\"Id\":10672,\"CommunityId\":10639,\"Timestamp\":2.2234158741,\"Lat\":-0.0395579966,\"Long\":2.1315216395,\"LocationId\":\"40b0c7457b2e62fed2804af959051b98\"},{\"Id\":10672,\"CommunityId\":10639,\"Timestamp\":2.2191555335,\"Lat\":0.2761623087,\"Long\":2.150888347,\"LocationId\":\"c56be5a2a22411dd89cb73cd2606dd40\"},{\"Id\":10672,\"CommunityId\":10639,\"Timestamp\":2.2148500417,\"Lat\":0.2761623087,\"Long\":2.150888347,\"LocationId\":\"c56be5a2a22411dd89cb73cd2606dd40\"},{\"Id\":10672,\"CommunityId\":10639,\"Timestamp\":2.2052395982,\"Lat\":-0.0435107634,\"Long\":2.1311580075,\"LocationId\":\"5f110babe97636fd7324bc3a6cbbb2b4\"},{\"Id\":10708,\"CommunityId\":10639,\"Timestamp\":2.0916138445,\"Lat\":-0.0268497206,\"Long\":2.130787908,\"LocationId\":\"0e45ffe3ae19f545b8209e545a44acb2\"},{\"Id\":10708,\"CommunityId\":10639,\"Timestamp\":2.082814537,\"Lat\":-0.0239650051,\"Long\":2.1270106317,\"LocationId\":\"01ba835a63e4e058b6927e2478900bc8\"},{\"Id\":10708,\"CommunityId\":10639,\"Timestamp\":2.0805520059,\"Lat\":-0.0247703886,\"Long\":2.1272347185,\"LocationId\":\"af54564df2a4f91201836d7fc659a3ba\"},{\"Id\":10708,\"CommunityId\":10639,\"Timestamp\":2.079230143,\"Lat\":-0.0247342329,\"Long\":2.1272288294,\"LocationId\":\"da1f0689f0a17c529581cabb0d413e10\"},{\"Id\":10684,\"CommunityId\":10652,\"Timestamp\":2.3065492187,\"Lat\":-0.049432302,\"Long\":2.1314719928,\"LocationId\":\"e68fc927388a4ee1c96faa9ddaf1172b\"},{\"Id\":10684,\"CommunityId\":10652,\"Timestamp\":2.2917534161,\"Lat\":-0.049432302,\"Long\":2.1314719928,\"LocationId\":\"e68fc927388a4ee1c96faa9ddaf1172b\"},{\"Id\":10684,\"CommunityId\":10652,\"Timestamp\":2.290726728,\"Lat\":-0.049432302,\"Long\":2.1314719928,\"LocationId\":\"e68fc927388a4ee1c96faa9ddaf1172b\"},{\"Id\":10684,\"CommunityId\":10652,\"Timestamp\":2.2886573321,\"Lat\":-0.0209238687,\"Long\":2.1120165322,\"LocationId\":\"b9d89b5ea22411dda5ef27ee20f87cee\"},{\"Id\":10684,\"CommunityId\":10652,\"Timestamp\":2.2882129573,\"Lat\":-0.0423312004,\"Long\":2.1312310717,\"LocationId\":\"aaa502eaca459fcd8284531ef87f661e\"},{\"Id\":10699,\"CommunityId\":10639,\"Timestamp\":2.2838349803,\"Lat\":-0.0349651474,\"Long\":2.1319182458,\"LocationId\":\"1f2c4043429bf49828b0f146e1933cbd\"},{\"Id\":10699,\"CommunityId\":10639,\"Timestamp\":2.2422628624,\"Lat\":0.004171659,\"Long\":2.1392605359,\"LocationId\":\"7e90c4b68f79165e42115c195a605905\"},{\"Id\":10699,\"CommunityId\":10639,\"Timestamp\":2.2415555637,\"Lat\":0.0039421656,\"Long\":2.138070312,\"LocationId\":\"7709a1fc4ff52d93d222cc49d8eb9323\"},{\"Id\":10699,\"CommunityId\":10639,\"Timestamp\":2.2395299444,\"Lat\":0.0023341895,\"Long\":2.1405557455,\"LocationId\":\"c552ec64a22411dda2a9374258ab3314\"},{\"Id\":10609,\"CommunityId\":10634,\"Timestamp\":1.7892176928,\"Lat\":-0.0721005787,\"Long\":2.1001887923,\"LocationId\":\"ca8a1994dcbb41819af4de3f1ac5dc72\"},{\"Id\":10609,\"CommunityId\":10634,\"Timestamp\":1.7890139308,\"Lat\":-0.0745097519,\"Long\":2.1008817976,\"LocationId\":\"197e40c56b1f9ab362daf8eabaacdd9e\"},{\"Id\":10609,\"CommunityId\":10634,\"Timestamp\":1.7887320264,\"Lat\":-0.0750890673,\"Long\":2.1009242015,\"LocationId\":\"9ed1b1c4521cd555a542b7bfb6087ac9\"},{\"Id\":10393,\"CommunityId\":10652,\"Timestamp\":1.1972340095,\"Lat\":-0.0325906076,\"Long\":2.1314378962,\"LocationId\":\"12fc8ba069aca9b0f86f4552943b76cd\"},{\"Id\":10393,\"CommunityId\":10652,\"Timestamp\":0.588640967,\"Lat\":-0.0209238687,\"Long\":2.1120165322,\"LocationId\":\"b9d89b5ea22411dda5ef27ee20f87cee\"},{\"Id\":10393,\"CommunityId\":10652,\"Timestamp\":0.5675952092,\"Lat\":-0.0356145541,\"Long\":2.1313799886,\"LocationId\":\"23795e3a896111deb755003048c10834\"},{\"Id\":10393,\"CommunityId\":10652,\"Timestamp\":0.5517912231,\"Lat\":-0.0356145541,\"Long\":2.1313799886,\"LocationId\":\"23795e3a896111deb755003048c10834\"},{\"Id\":10393,\"CommunityId\":10652,\"Timestamp\":0.5426034246,\"Lat\":-0.0356145541,\"Long\":2.1313799886,\"LocationId\":\"23795e3a896111deb755003048c10834\"},{\"Id\":10402,\"CommunityId\":10634,\"Timestamp\":2.2701206395,\"Lat\":-0.0611561287,\"Long\":2.095082476,\"LocationId\":\"0d1e214a30f22941bca4d1b7cab9970d\"},{\"Id\":10402,\"CommunityId\":10634,\"Timestamp\":2.2679433353,\"Lat\":-0.073747438,\"Long\":2.0991142101,\"LocationId\":\"2ac336d685d4a497f77ca186b4c351f4\"},{\"Id\":10402,\"CommunityId\":10634,\"Timestamp\":2.241922695,\"Lat\":-0.0407632492,\"Long\":2.1324936772,\"LocationId\":\"ce62b2827e17b560679c01af805eea7a\"},{\"Id\":10402,\"CommunityId\":10634,\"Timestamp\":2.2402655287,\"Lat\":-0.0409439007,\"Long\":2.1330000824,\"LocationId\":\"e879b79f80de90c9cd0778cfee77efea\"},{\"Id\":10402,\"CommunityId\":10634,\"Timestamp\":2.2378991076,\"Lat\":-0.0981737052,\"Long\":2.1074757203,\"LocationId\":\"37de30b6987e30876cd6ab00a3bbdd3e\"},{\"Id\":10654,\"CommunityId\":10639,\"Timestamp\":2.2461766383,\"Lat\":-0.0400685528,\"Long\":2.1317676397,\"LocationId\":\"95e57aecf7130bf26ac18c446f3bbfd8\"},{\"Id\":10654,\"CommunityId\":10639,\"Timestamp\":2.2421155129,\"Lat\":-0.0406430475,\"Long\":2.131771157,\"LocationId\":\"a36891c9cd56c2674c6bf499f5a9cc1a\"},{\"Id\":10654,\"CommunityId\":10639,\"Timestamp\":2.2419580124,\"Lat\":-0.0394992595,\"Long\":2.1318855144,\"LocationId\":\"4e24725e909d5c2ee2234ad66db0941b\"},{\"Id\":10654,\"CommunityId\":10639,\"Timestamp\":2.2416794917,\"Lat\":-0.0392004994,\"Long\":2.1319609505,\"LocationId\":\"fd006c66169236b51b4fb3d725182de8\"},{\"Id\":10654,\"CommunityId\":10639,\"Timestamp\":2.2412809555,\"Lat\":-0.0385498241,\"Long\":2.1318473914,\"LocationId\":\"2e1abb3605e2aa873ad89b6b4e67099e\"},{\"Id\":10357,\"CommunityId\":10652,\"Timestamp\":2.26578443,\"Lat\":-0.0464939873,\"Long\":2.1313014055,\"LocationId\":\"dc3ddde9734b8f9589f1ef8264da6d38\"},{\"Id\":10357,\"CommunityId\":10652,\"Timestamp\":2.2615886441,\"Lat\":-0.046821545,\"Long\":2.1314041119,\"LocationId\":\"820e8182850b494f51be83ea0be3e950\"},{\"Id\":10357,\"CommunityId\":10652,\"Timestamp\":2.2603801351,\"Lat\":-0.0436062905,\"Long\":2.1318406461,\"LocationId\":\"a27a46808b2d1a0a0132404341d5b891\"},{\"Id\":10357,\"CommunityId\":10652,\"Timestamp\":2.2593373215,\"Lat\":-0.043332776,\"Long\":2.1355822753,\"LocationId\":\"c048c62cd20c0cfd48f7f378e5a43c93\"},{\"Id\":10357,\"CommunityId\":10652,\"Timestamp\":2.2588637624,\"Lat\":-0.046821545,\"Long\":2.1314041119,\"LocationId\":\"820e8182850b494f51be83ea0be3e950\"},{\"Id\":10675,\"CommunityId\":10652,\"Timestamp\":2.0738023208,\"Lat\":-0.0407986437,\"Long\":2.131612371,\"LocationId\":\"115456eeb7c52ddcc8a011d24beabfbe\"},{\"Id\":10675,\"CommunityId\":10652,\"Timestamp\":2.0712442448,\"Lat\":-0.0386265122,\"Long\":2.1326071322,\"LocationId\":\"0b4228abe76b156722bf5a3228d87498\"},{\"Id\":10675,\"CommunityId\":10652,\"Timestamp\":2.070441198,\"Lat\":-0.0386265122,\"Long\":2.1326071322,\"LocationId\":\"0b4228abe76b156722bf5a3228d87498\"},{\"Id\":10675,\"CommunityId\":10652,\"Timestamp\":2.0701763179,\"Lat\":-0.0378388259,\"Long\":2.1311069493,\"LocationId\":\"b9ccc69ea22411dd84decb3efb095ce9\"},{\"Id\":10675,\"CommunityId\":10652,\"Timestamp\":2.0475026311,\"Lat\":-0.0378388259,\"Long\":2.1311069493,\"LocationId\":\"b9ccc69ea22411dd84decb3efb095ce9\"},{\"Id\":10634,\"CommunityId\":10634,\"Timestamp\":2.3074504456,\"Lat\":-0.0751165964,\"Long\":2.0993108992,\"LocationId\":\"e370a90675c1621144ab7ba040a1ba94\"},{\"Id\":10634,\"CommunityId\":10634,\"Timestamp\":2.3065827384,\"Lat\":-0.0751165964,\"Long\":2.0993108992,\"LocationId\":\"e370a90675c1621144ab7ba040a1ba94\"},{\"Id\":10634,\"CommunityId\":10634,\"Timestamp\":2.3027946881,\"Lat\":-0.0751165964,\"Long\":2.0993108992,\"LocationId\":\"e370a90675c1621144ab7ba040a1ba94\"},{\"Id\":10634,\"CommunityId\":10634,\"Timestamp\":2.302682656,\"Lat\":-0.0751165964,\"Long\":2.0993108992,\"LocationId\":\"e370a90675c1621144ab7ba040a1ba94\"},{\"Id\":10634,\"CommunityId\":10634,\"Timestamp\":2.2892464657,\"Lat\":-0.0751165964,\"Long\":2.0993108992,\"LocationId\":\"e370a90675c1621144ab7ba040a1ba94\"},{\"Id\":10778,\"CommunityId\":10634,\"Timestamp\":1.8633907398,\"Lat\":-0.0969550052,\"Long\":2.0821584834,\"LocationId\":\"296712d010264de5646b9c337681da5f\"},{\"Id\":10778,\"CommunityId\":10634,\"Timestamp\":1.7818380053,\"Lat\":-0.0969550052,\"Long\":2.0821584834,\"LocationId\":\"296712d010264de5646b9c337681da5f\"},{\"Id\":10778,\"CommunityId\":10634,\"Timestamp\":1.7730360014,\"Lat\":-0.0969550052,\"Long\":2.0821584834,\"LocationId\":\"296712d010264de5646b9c337681da5f\"},{\"Id\":10778,\"CommunityId\":10634,\"Timestamp\":1.7730354198,\"Lat\":-0.0969550052,\"Long\":2.0821584834,\"LocationId\":\"296712d010264de5646b9c337681da5f\"},{\"Id\":10778,\"CommunityId\":10634,\"Timestamp\":1.6990251605,\"Lat\":-0.0969550052,\"Long\":2.0821584834,\"LocationId\":\"296712d010264de5646b9c337681da5f\"},{\"Id\":10610,\"CommunityId\":10634,\"Timestamp\":1.8579130609,\"Lat\":-0.0754458667,\"Long\":2.0998522109,\"LocationId\":\"634e981e5130ba8d6cbbb2963852c37d\"},{\"Id\":10610,\"CommunityId\":10634,\"Timestamp\":1.8574125908,\"Lat\":-0.0720318195,\"Long\":2.0997897795,\"LocationId\":\"2ef1b99f9cb613ff1130725166f4dd71\"},{\"Id\":10610,\"CommunityId\":10634,\"Timestamp\":1.7906346694,\"Lat\":-0.076196763,\"Long\":2.098868314,\"LocationId\":\"a1aecccd4ed6fbff9a33d54a195d2688\"},{\"Id\":10610,\"CommunityId\":10634,\"Timestamp\":1.7904050009,\"Lat\":-0.076196763,\"Long\":2.098868314,\"LocationId\":\"a1aecccd4ed6fbff9a33d54a195d2688\"},{\"Id\":10610,\"CommunityId\":10634,\"Timestamp\":1.7668743396,\"Lat\":-0.0729593077,\"Long\":2.1004647703,\"LocationId\":\"3bdec9444834c39286682d372a44994d\"},{\"Id\":10712,\"CommunityId\":10634,\"Timestamp\":0.9807602686,\"Lat\":-0.0841433366,\"Long\":2.0857969781,\"LocationId\":\"c0cc4537e4b9d8ed0ae86cbc3abe3219\"},{\"Id\":10712,\"CommunityId\":10634,\"Timestamp\":0.9805131,\"Lat\":-0.0851435167,\"Long\":2.086090068,\"LocationId\":\"78ada0b95f6c7c3ef91f3193c56dabbf\"},{\"Id\":10712,\"CommunityId\":10634,\"Timestamp\":0.9726276554,\"Lat\":-0.1027242458,\"Long\":2.0829875513,\"LocationId\":\"f22fa5c5baa23fe598fc747dd7bfb2d2\"},{\"Id\":10712,\"CommunityId\":10634,\"Timestamp\":0.9710779215,\"Lat\":-0.1036145635,\"Long\":2.0834474799,\"LocationId\":\"a4bf8178b2d4b9cadd6c1633cce7c828\"},{\"Id\":10712,\"CommunityId\":10634,\"Timestamp\":0.9666695442,\"Lat\":-0.0771493065,\"Long\":2.0862547431,\"LocationId\":\"19d0953df66358f9a691851c8fa7490c\"},{\"Id\":10664,\"CommunityId\":10639,\"Timestamp\":2.3058876528,\"Lat\":-0.0406199586,\"Long\":2.1315894856,\"LocationId\":\"6b774249be109c0acb8fb8a898f9ea83\"},{\"Id\":10664,\"CommunityId\":10639,\"Timestamp\":2.3058777132,\"Lat\":-0.0406199586,\"Long\":2.1315894856,\"LocationId\":\"6b774249be109c0acb8fb8a898f9ea83\"},{\"Id\":10664,\"CommunityId\":10639,\"Timestamp\":2.2984728594,\"Lat\":-0.0406199586,\"Long\":2.1315894856,\"LocationId\":\"6b774249be109c0acb8fb8a898f9ea83\"},{\"Id\":10664,\"CommunityId\":10639,\"Timestamp\":2.2937428192,\"Lat\":-0.0406199586,\"Long\":2.1315894856,\"LocationId\":\"6b774249be109c0acb8fb8a898f9ea83\"},{\"Id\":10664,\"CommunityId\":10639,\"Timestamp\":2.2847054367,\"Lat\":-0.0406199586,\"Long\":2.1315894856,\"LocationId\":\"6b774249be109c0acb8fb8a898f9ea83\"},{\"Id\":10784,\"CommunityId\":10652,\"Timestamp\":1.7301293317,\"Lat\":0.0396336534,\"Long\":2.1337689865,\"LocationId\":\"249c9d1f44a7110266d5ce916cb0c9a9\"},{\"Id\":10784,\"CommunityId\":10652,\"Timestamp\":1.6746321848,\"Lat\":0.0101832062,\"Long\":2.1351681984,\"LocationId\":\"fa28ff8081396a0f94000457afc231ec\"},{\"Id\":10784,\"CommunityId\":10652,\"Timestamp\":1.5477463517,\"Lat\":0.0341549901,\"Long\":2.1355565669,\"LocationId\":\"80edd742a79011de84d0003048c10834\"},{\"Id\":10784,\"CommunityId\":10652,\"Timestamp\":1.5474375892,\"Lat\":0.0298276632,\"Long\":2.1357243312,\"LocationId\":\"9ccbc488de3db92842673f6ffb3d7a9d\"},{\"Id\":10784,\"CommunityId\":10652,\"Timestamp\":1.5433337976,\"Lat\":0.0341549901,\"Long\":2.1355565669,\"LocationId\":\"80edd742a79011de84d0003048c10834\"},{\"Id\":10817,\"CommunityId\":10652,\"Timestamp\":1.1729976356,\"Lat\":-0.0392755383,\"Long\":2.1317336588,\"LocationId\":\"aad0e1edea95cd2efbef7f5d3f9fec9d\"},{\"Id\":10817,\"CommunityId\":10652,\"Timestamp\":1.1544150516,\"Lat\":-0.031761374,\"Long\":2.1342446156,\"LocationId\":\"aca5c6fb58a588c6c02ae3cae9c67de1\"},{\"Id\":10817,\"CommunityId\":10652,\"Timestamp\":1.1371331824,\"Lat\":-0.0313082863,\"Long\":2.1340373515,\"LocationId\":\"3baaad17cc23f75e69b9692f85bd4658\"},{\"Id\":10817,\"CommunityId\":10652,\"Timestamp\":1.0958750611,\"Lat\":-0.0421384335,\"Long\":2.1353056378,\"LocationId\":\"693bb2b2f1b5e1ef55cb7be4635d3c76\"},{\"Id\":10817,\"CommunityId\":10652,\"Timestamp\":1.0820502742,\"Lat\":-0.0313082863,\"Long\":2.1340373515,\"LocationId\":\"3baaad17cc23f75e69b9692f85bd4658\"},{\"Id\":15287,\"CommunityId\":10639,\"Timestamp\":2.2879139758,\"Lat\":-0.0506128799,\"Long\":2.1292967613,\"LocationId\":\"72a4b4098031377ee6626c132f247749\"},{\"Id\":15287,\"CommunityId\":10639,\"Timestamp\":2.225289227,\"Lat\":-0.0405290619,\"Long\":2.1316884319,\"LocationId\":\"dde4542b512d47e23ad8e94a4b4ea658\"},{\"Id\":15287,\"CommunityId\":10639,\"Timestamp\":2.2062822003,\"Lat\":-0.0460549178,\"Long\":2.1294594463,\"LocationId\":\"7eab4b323fbf8ec648486a0041f7bd80\"},{\"Id\":15287,\"CommunityId\":10639,\"Timestamp\":2.2062214523,\"Lat\":-0.0405290619,\"Long\":2.1316884319,\"LocationId\":\"dde4542b512d47e23ad8e94a4b4ea658\"},{\"Id\":15287,\"CommunityId\":10639,\"Timestamp\":2.2048830939,\"Lat\":-0.0290142404,\"Long\":2.1352820236,\"LocationId\":\"0fae42bf870e98ac8fb3c1280e6d7ad0\"},{\"Id\":10694,\"CommunityId\":10639,\"Timestamp\":2.2865310477,\"Lat\":-0.0338183782,\"Long\":2.1304247272,\"LocationId\":\"94c1292329683d1249789daba1fea5c2\"},{\"Id\":10694,\"CommunityId\":10639,\"Timestamp\":2.2385136189,\"Lat\":-0.0299945666,\"Long\":2.1310936323,\"LocationId\":\"57653b8125023288bdb8b919b89912d6\"},{\"Id\":18461,\"CommunityId\":10639,\"Timestamp\":1.5789706442,\"Lat\":-0.0424299625,\"Long\":2.1321127366,\"LocationId\":\"eedfbad63eb2d0693d9537f547b022e2\"},{\"Id\":18461,\"CommunityId\":10639,\"Timestamp\":1.5789675778,\"Lat\":-0.0424299625,\"Long\":2.1321127366,\"LocationId\":\"eedfbad63eb2d0693d9537f547b022e2\"},{\"Id\":18461,\"CommunityId\":10639,\"Timestamp\":1.5432288501,\"Lat\":0.1542820329,\"Long\":2.1319721849,\"LocationId\":\"f2a8b6532b6c3a3b6013c1f0723ffab0\"},{\"Id\":18461,\"CommunityId\":10639,\"Timestamp\":1.5427221941,\"Lat\":0.1519692748,\"Long\":2.1314853445,\"LocationId\":\"869cbef641e092766fd248c314cdb8fe\"},{\"Id\":10643,\"CommunityId\":10652,\"Timestamp\":2.3022655094,\"Lat\":-0.038252967,\"Long\":2.1331672218,\"LocationId\":\"caf936269a100f507e9a48d5525f90c4\"},{\"Id\":10643,\"CommunityId\":10652,\"Timestamp\":2.2920874505,\"Lat\":-0.0122922403,\"Long\":2.1305792439,\"LocationId\":\"cbd6eeacd5d200bd3bf6d9903b84456d\"},{\"Id\":10643,\"CommunityId\":10652,\"Timestamp\":2.2918501158,\"Lat\":-0.0173844818,\"Long\":2.1312837844,\"LocationId\":\"815ce8f47f7b60b4c560d64455b5aa6d\"},{\"Id\":10643,\"CommunityId\":10652,\"Timestamp\":2.2918445644,\"Lat\":-0.0173844818,\"Long\":2.1312837844,\"LocationId\":\"815ce8f47f7b60b4c560d64455b5aa6d\"},{\"Id\":10643,\"CommunityId\":10652,\"Timestamp\":2.2917828119,\"Lat\":-0.0173844818,\"Long\":2.1312837844,\"LocationId\":\"815ce8f47f7b60b4c560d64455b5aa6d\"},{\"Id\":10760,\"CommunityId\":10634,\"Timestamp\":0.5779338351,\"Lat\":-0.0431253566,\"Long\":2.1187653996,\"LocationId\":\"3f6813f0f63d11ddaf23003048c10834\"},{\"Id\":10760,\"CommunityId\":10634,\"Timestamp\":0.5779273849,\"Lat\":-0.0431253566,\"Long\":2.1187653996,\"LocationId\":\"3f6813f0f63d11ddaf23003048c10834\"},{\"Id\":10760,\"CommunityId\":10634,\"Timestamp\":0.5378431955,\"Lat\":-0.0864692249,\"Long\":2.1164516757,\"LocationId\":\"b9c4992ea22411dd98e2f3194f9458c2\"},{\"Id\":10760,\"CommunityId\":10634,\"Timestamp\":0.5377947663,\"Lat\":-0.0864692249,\"Long\":2.1164516757,\"LocationId\":\"b9c4992ea22411dd98e2f3194f9458c2\"},{\"Id\":10760,\"CommunityId\":10634,\"Timestamp\":0.5367175871,\"Lat\":-0.0864692249,\"Long\":2.1164516757,\"LocationId\":\"b9c4992ea22411dd98e2f3194f9458c2\"},{\"Id\":10709,\"CommunityId\":10634,\"Timestamp\":2.2775574269,\"Lat\":-0.1022025258,\"Long\":2.0949589205,\"LocationId\":\"9a2480dba5bf5e31ef755ef4f478c69a\"},{\"Id\":10709,\"CommunityId\":10634,\"Timestamp\":2.2728202492,\"Lat\":-0.0940027991,\"Long\":2.0951343788,\"LocationId\":\"b70ec4ee147a57e811ac6aad81b34407\"},{\"Id\":10709,\"CommunityId\":10634,\"Timestamp\":2.2464683236,\"Lat\":-0.0820198566,\"Long\":2.0604340168,\"LocationId\":\"a1d840054f4c46411c0173b25f8c8fba\"},{\"Id\":10709,\"CommunityId\":10634,\"Timestamp\":2.2422603247,\"Lat\":-0.1211632599,\"Long\":2.0317639936,\"LocationId\":\"d6abb9c649a60435efc0030787281e0b\"},{\"Id\":10709,\"CommunityId\":10634,\"Timestamp\":2.2382384291,\"Lat\":-0.2243431225,\"Long\":2.0279113507,\"LocationId\":\"2c19629658ffbefd6bf47bb5543a17be\"},{\"Id\":10640,\"CommunityId\":10652,\"Timestamp\":1.9142356187,\"Lat\":0.0142590926,\"Long\":2.1338272528,\"LocationId\":\"c25ae9007a8a2be6f0830957fcfcf6c9\"},{\"Id\":10640,\"CommunityId\":10652,\"Timestamp\":1.5325273753,\"Lat\":0.1676212572,\"Long\":2.1481411434,\"LocationId\":\"b9a7a01128ac10c0f133a874c7efce0e\"},{\"Id\":10640,\"CommunityId\":10652,\"Timestamp\":1.5300917998,\"Lat\":0.0865121512,\"Long\":2.1403183996,\"LocationId\":\"1af508094275fc787a4099a494e2c93d\"},{\"Id\":10640,\"CommunityId\":10652,\"Timestamp\":1.5027616683,\"Lat\":0.0142590926,\"Long\":2.1338272528,\"LocationId\":\"c25ae9007a8a2be6f0830957fcfcf6c9\"},{\"Id\":10640,\"CommunityId\":10652,\"Timestamp\":1.5015828723,\"Lat\":0.0336021255,\"Long\":2.1345538803,\"LocationId\":\"bd2224465ca75496527b51dd3047e6a6\"},{\"Id\":10697,\"CommunityId\":10652,\"Timestamp\":1.1993501427,\"Lat\":0.2149237279,\"Long\":2.1363522555,\"LocationId\":\"6e8a35a6a1b311dea956003048c0801e\"},{\"Id\":10697,\"CommunityId\":10652,\"Timestamp\":1.109927296,\"Lat\":0.2149237279,\"Long\":2.1363522555,\"LocationId\":\"6e8a35a6a1b311dea956003048c0801e\"},{\"Id\":10697,\"CommunityId\":10652,\"Timestamp\":1.0878250841,\"Lat\":0.2149237279,\"Long\":2.1363522555,\"LocationId\":\"6e8a35a6a1b311dea956003048c0801e\"},{\"Id\":10697,\"CommunityId\":10652,\"Timestamp\":1.048610558,\"Lat\":0.2149237279,\"Long\":2.1363522555,\"LocationId\":\"6e8a35a6a1b311dea956003048c0801e\"},{\"Id\":10697,\"CommunityId\":10652,\"Timestamp\":0.9823375479,\"Lat\":0.2149237279,\"Long\":2.1363522555,\"LocationId\":\"6e8a35a6a1b311dea956003048c0801e\"},{\"Id\":10361,\"CommunityId\":10652,\"Timestamp\":2.0171451469,\"Lat\":-0.0394992595,\"Long\":2.1318855144,\"LocationId\":\"4e24725e909d5c2ee2234ad66db0941b\"},{\"Id\":10361,\"CommunityId\":10652,\"Timestamp\":1.5657667131,\"Lat\":-0.0325638397,\"Long\":2.1289782405,\"LocationId\":\"62d2e9987d9853a19af5a170df00a43f\"},{\"Id\":10361,\"CommunityId\":10652,\"Timestamp\":1.5605789219,\"Lat\":-0.0414592777,\"Long\":2.1325811692,\"LocationId\":\"fd6ab230dd3e139ec24a4cc230a2ae06\"},{\"Id\":10361,\"CommunityId\":10652,\"Timestamp\":1.5551248232,\"Lat\":-0.0299867646,\"Long\":2.1296743697,\"LocationId\":\"d51d30e318bfcd09ce971b4405441fb7\"},{\"Id\":10361,\"CommunityId\":10652,\"Timestamp\":1.5445068835,\"Lat\":-0.0029517703,\"Long\":2.1120165322,\"LocationId\":\"e296a920c493b7dc9941f967d95faa4e\"},{\"Id\":10772,\"CommunityId\":10652,\"Timestamp\":1.9818495779,\"Lat\":-0.0383887728,\"Long\":2.131933252,\"LocationId\":\"d2b585a0cee5a9d22d134fc6c4829e89\"},{\"Id\":10772,\"CommunityId\":10652,\"Timestamp\":1.9735185425,\"Lat\":-0.0381589622,\"Long\":2.1318457138,\"LocationId\":\"61bcf118534f11de882c003048c10834\"},{\"Id\":10772,\"CommunityId\":10652,\"Timestamp\":1.9729656779,\"Lat\":-0.0421699587,\"Long\":2.1326617192,\"LocationId\":\"5593c5dd6002331f5ea7dfa362d10298\"},{\"Id\":10652,\"CommunityId\":10652,\"Timestamp\":1.5311691905,\"Lat\":-0.0397775313,\"Long\":2.1326260953,\"LocationId\":\"5dfb910a6dea11de9a39003048c0801e\"},{\"Id\":10652,\"CommunityId\":10652,\"Timestamp\":0.9280698466,\"Lat\":-0.0397775313,\"Long\":2.1326260953,\"LocationId\":\"5dfb910a6dea11de9a39003048c0801e\"},{\"Id\":10652,\"CommunityId\":10652,\"Timestamp\":0.9251203719,\"Lat\":-0.0405752397,\"Long\":2.1326837368,\"LocationId\":\"4c6095105e30774560fc62b282173da7\"},{\"Id\":10652,\"CommunityId\":10652,\"Timestamp\":0.8315357348,\"Lat\":-0.0397775313,\"Long\":2.1326260953,\"LocationId\":\"5dfb910a6dea11de9a39003048c0801e\"},{\"Id\":10652,\"CommunityId\":10652,\"Timestamp\":0.8230541777,\"Lat\":-0.0397775313,\"Long\":2.1326260953,\"LocationId\":\"5dfb910a6dea11de9a39003048c0801e\"}]');\n",
       "          document.querySelector(\"#elem\").data = data;\n",
       "        </script>"
      ],
      "text/plain": [
       "<IPython.core.display.HTML object>"
      ]
     },
     "metadata": {},
     "output_type": "display_data"
    }
   ],
   "source": [
    "# Display the Dive visualization for this data\n",
    "from IPython.core.display import display, HTML\n",
    "\n",
    "HTML_TEMPLATE = \"\"\"<link rel=\"import\" href=\"/nbextensions/facets-dist/facets-jupyter.html\">\n",
    "        <facets-dive id=\"elem\" height=\"600\"></facets-dive>\n",
    "        <script>\n",
    "          var data = JSON.parse('{jsonstr}');\n",
    "          document.querySelector(\"#elem\").data = data;\n",
    "        </script>\"\"\"\n",
    "html = HTML_TEMPLATE.format(jsonstr=jsonstr)\n",
    "display(HTML(html)) "
   ]
  },
  {
   "cell_type": "code",
   "execution_count": 94,
   "metadata": {
    "collapsed": true
   },
   "outputs": [],
   "source": [
    "biggest_st_id = st_community_sizes_exp.argmax()"
   ]
  },
  {
   "cell_type": "code",
   "execution_count": 67,
   "metadata": {
    "collapsed": true
   },
   "outputs": [],
   "source": [
    "biggest_st_community = communities_exp[communities_exp.CommunityId == biggest_st_id][['Id']]"
   ]
  },
  {
   "cell_type": "code",
   "execution_count": 68,
   "metadata": {
    "collapsed": true
   },
   "outputs": [],
   "source": [
    "uniform_subcommunities = pd.merge(biggest_st_community, communities_uniform, on='Id')"
   ]
  },
  {
   "cell_type": "code",
   "execution_count": 69,
   "metadata": {},
   "outputs": [
    {
     "data": {
      "text/plain": [
       "25"
      ]
     },
     "execution_count": 69,
     "metadata": {},
     "output_type": "execute_result"
    }
   ],
   "source": [
    "len(set(uniform_subcommunities.CommunityId))"
   ]
  },
  {
   "cell_type": "code",
   "execution_count": 70,
   "metadata": {},
   "outputs": [
    {
     "data": {
      "text/html": [
       "<div>\n",
       "<table border=\"1\" class=\"dataframe\">\n",
       "  <thead>\n",
       "    <tr style=\"text-align: right;\">\n",
       "      <th></th>\n",
       "      <th>Id</th>\n",
       "      <th>CommunityId</th>\n",
       "    </tr>\n",
       "  </thead>\n",
       "  <tbody>\n",
       "    <tr>\n",
       "      <th>0</th>\n",
       "      <td>26181</td>\n",
       "      <td>7528</td>\n",
       "    </tr>\n",
       "    <tr>\n",
       "      <th>1</th>\n",
       "      <td>26205</td>\n",
       "      <td>6222</td>\n",
       "    </tr>\n",
       "    <tr>\n",
       "      <th>2</th>\n",
       "      <td>17754</td>\n",
       "      <td>17754</td>\n",
       "    </tr>\n",
       "    <tr>\n",
       "      <th>3</th>\n",
       "      <td>15108</td>\n",
       "      <td>15108</td>\n",
       "    </tr>\n",
       "    <tr>\n",
       "      <th>4</th>\n",
       "      <td>26190</td>\n",
       "      <td>18951</td>\n",
       "    </tr>\n",
       "    <tr>\n",
       "      <th>5</th>\n",
       "      <td>26202</td>\n",
       "      <td>2839</td>\n",
       "    </tr>\n",
       "    <tr>\n",
       "      <th>6</th>\n",
       "      <td>26175</td>\n",
       "      <td>26175</td>\n",
       "    </tr>\n",
       "    <tr>\n",
       "      <th>7</th>\n",
       "      <td>26193</td>\n",
       "      <td>7528</td>\n",
       "    </tr>\n",
       "    <tr>\n",
       "      <th>8</th>\n",
       "      <td>26187</td>\n",
       "      <td>2839</td>\n",
       "    </tr>\n",
       "    <tr>\n",
       "      <th>9</th>\n",
       "      <td>6222</td>\n",
       "      <td>16095</td>\n",
       "    </tr>\n",
       "    <tr>\n",
       "      <th>10</th>\n",
       "      <td>441</td>\n",
       "      <td>9483</td>\n",
       "    </tr>\n",
       "    <tr>\n",
       "      <th>11</th>\n",
       "      <td>26172</td>\n",
       "      <td>2839</td>\n",
       "    </tr>\n",
       "    <tr>\n",
       "      <th>12</th>\n",
       "      <td>36882</td>\n",
       "      <td>7537</td>\n",
       "    </tr>\n",
       "    <tr>\n",
       "      <th>13</th>\n",
       "      <td>11790</td>\n",
       "      <td>2839</td>\n",
       "    </tr>\n",
       "    <tr>\n",
       "      <th>14</th>\n",
       "      <td>22695</td>\n",
       "      <td>22694</td>\n",
       "    </tr>\n",
       "    <tr>\n",
       "      <th>15</th>\n",
       "      <td>36855</td>\n",
       "      <td>7528</td>\n",
       "    </tr>\n",
       "    <tr>\n",
       "      <th>16</th>\n",
       "      <td>15990</td>\n",
       "      <td>45974</td>\n",
       "    </tr>\n",
       "    <tr>\n",
       "      <th>17</th>\n",
       "      <td>7528</td>\n",
       "      <td>7528</td>\n",
       "    </tr>\n",
       "    <tr>\n",
       "      <th>18</th>\n",
       "      <td>7537</td>\n",
       "      <td>7537</td>\n",
       "    </tr>\n",
       "    <tr>\n",
       "      <th>19</th>\n",
       "      <td>7969</td>\n",
       "      <td>7941</td>\n",
       "    </tr>\n",
       "    <tr>\n",
       "      <th>20</th>\n",
       "      <td>26182</td>\n",
       "      <td>11946</td>\n",
       "    </tr>\n",
       "    <tr>\n",
       "      <th>21</th>\n",
       "      <td>36859</td>\n",
       "      <td>7528</td>\n",
       "    </tr>\n",
       "    <tr>\n",
       "      <th>22</th>\n",
       "      <td>26173</td>\n",
       "      <td>2839</td>\n",
       "    </tr>\n",
       "    <tr>\n",
       "      <th>23</th>\n",
       "      <td>16435</td>\n",
       "      <td>697</td>\n",
       "    </tr>\n",
       "    <tr>\n",
       "      <th>24</th>\n",
       "      <td>26191</td>\n",
       "      <td>2839</td>\n",
       "    </tr>\n",
       "    <tr>\n",
       "      <th>25</th>\n",
       "      <td>36877</td>\n",
       "      <td>36877</td>\n",
       "    </tr>\n",
       "    <tr>\n",
       "      <th>26</th>\n",
       "      <td>36853</td>\n",
       "      <td>36853</td>\n",
       "    </tr>\n",
       "    <tr>\n",
       "      <th>27</th>\n",
       "      <td>36862</td>\n",
       "      <td>7528</td>\n",
       "    </tr>\n",
       "    <tr>\n",
       "      <th>28</th>\n",
       "      <td>42520</td>\n",
       "      <td>11836</td>\n",
       "    </tr>\n",
       "    <tr>\n",
       "      <th>29</th>\n",
       "      <td>9466</td>\n",
       "      <td>9466</td>\n",
       "    </tr>\n",
       "    <tr>\n",
       "      <th>30</th>\n",
       "      <td>2839</td>\n",
       "      <td>2839</td>\n",
       "    </tr>\n",
       "    <tr>\n",
       "      <th>31</th>\n",
       "      <td>15988</td>\n",
       "      <td>2839</td>\n",
       "    </tr>\n",
       "    <tr>\n",
       "      <th>32</th>\n",
       "      <td>18514</td>\n",
       "      <td>18514</td>\n",
       "    </tr>\n",
       "    <tr>\n",
       "      <th>33</th>\n",
       "      <td>26197</td>\n",
       "      <td>2839</td>\n",
       "    </tr>\n",
       "    <tr>\n",
       "      <th>34</th>\n",
       "      <td>26188</td>\n",
       "      <td>2839</td>\n",
       "    </tr>\n",
       "    <tr>\n",
       "      <th>35</th>\n",
       "      <td>17428</td>\n",
       "      <td>2062</td>\n",
       "    </tr>\n",
       "    <tr>\n",
       "      <th>36</th>\n",
       "      <td>11836</td>\n",
       "      <td>11836</td>\n",
       "    </tr>\n",
       "    <tr>\n",
       "      <th>37</th>\n",
       "      <td>26189</td>\n",
       "      <td>6222</td>\n",
       "    </tr>\n",
       "    <tr>\n",
       "      <th>38</th>\n",
       "      <td>26204</td>\n",
       "      <td>2839</td>\n",
       "    </tr>\n",
       "    <tr>\n",
       "      <th>39</th>\n",
       "      <td>36881</td>\n",
       "      <td>7537</td>\n",
       "    </tr>\n",
       "    <tr>\n",
       "      <th>40</th>\n",
       "      <td>42521</td>\n",
       "      <td>11836</td>\n",
       "    </tr>\n",
       "    <tr>\n",
       "      <th>41</th>\n",
       "      <td>7748</td>\n",
       "      <td>7748</td>\n",
       "    </tr>\n",
       "    <tr>\n",
       "      <th>42</th>\n",
       "      <td>23543</td>\n",
       "      <td>2839</td>\n",
       "    </tr>\n",
       "    <tr>\n",
       "      <th>43</th>\n",
       "      <td>36860</td>\n",
       "      <td>7528</td>\n",
       "    </tr>\n",
       "    <tr>\n",
       "      <th>44</th>\n",
       "      <td>22694</td>\n",
       "      <td>22694</td>\n",
       "    </tr>\n",
       "    <tr>\n",
       "      <th>45</th>\n",
       "      <td>47345</td>\n",
       "      <td>18514</td>\n",
       "    </tr>\n",
       "    <tr>\n",
       "      <th>46</th>\n",
       "      <td>26177</td>\n",
       "      <td>47710</td>\n",
       "    </tr>\n",
       "    <tr>\n",
       "      <th>47</th>\n",
       "      <td>15086</td>\n",
       "      <td>7528</td>\n",
       "    </tr>\n",
       "    <tr>\n",
       "      <th>48</th>\n",
       "      <td>26198</td>\n",
       "      <td>2839</td>\n",
       "    </tr>\n",
       "    <tr>\n",
       "      <th>49</th>\n",
       "      <td>13760</td>\n",
       "      <td>27299</td>\n",
       "    </tr>\n",
       "    <tr>\n",
       "      <th>50</th>\n",
       "      <td>15998</td>\n",
       "      <td>54015</td>\n",
       "    </tr>\n",
       "    <tr>\n",
       "      <th>51</th>\n",
       "      <td>26195</td>\n",
       "      <td>2839</td>\n",
       "    </tr>\n",
       "  </tbody>\n",
       "</table>\n",
       "</div>"
      ],
      "text/plain": [
       "       Id  CommunityId\n",
       "0   26181         7528\n",
       "1   26205         6222\n",
       "2   17754        17754\n",
       "3   15108        15108\n",
       "4   26190        18951\n",
       "5   26202         2839\n",
       "6   26175        26175\n",
       "7   26193         7528\n",
       "8   26187         2839\n",
       "9    6222        16095\n",
       "10    441         9483\n",
       "11  26172         2839\n",
       "12  36882         7537\n",
       "13  11790         2839\n",
       "14  22695        22694\n",
       "15  36855         7528\n",
       "16  15990        45974\n",
       "17   7528         7528\n",
       "18   7537         7537\n",
       "19   7969         7941\n",
       "20  26182        11946\n",
       "21  36859         7528\n",
       "22  26173         2839\n",
       "23  16435          697\n",
       "24  26191         2839\n",
       "25  36877        36877\n",
       "26  36853        36853\n",
       "27  36862         7528\n",
       "28  42520        11836\n",
       "29   9466         9466\n",
       "30   2839         2839\n",
       "31  15988         2839\n",
       "32  18514        18514\n",
       "33  26197         2839\n",
       "34  26188         2839\n",
       "35  17428         2062\n",
       "36  11836        11836\n",
       "37  26189         6222\n",
       "38  26204         2839\n",
       "39  36881         7537\n",
       "40  42521        11836\n",
       "41   7748         7748\n",
       "42  23543         2839\n",
       "43  36860         7528\n",
       "44  22694        22694\n",
       "45  47345        18514\n",
       "46  26177        47710\n",
       "47  15086         7528\n",
       "48  26198         2839\n",
       "49  13760        27299\n",
       "50  15998        54015\n",
       "51  26195         2839"
      ]
     },
     "execution_count": 70,
     "metadata": {},
     "output_type": "execute_result"
    }
   ],
   "source": [
    "uniform_subcommunities"
   ]
  },
  {
   "cell_type": "code",
   "execution_count": null,
   "metadata": {
    "collapsed": true
   },
   "outputs": [],
   "source": []
  }
 ],
 "metadata": {
  "kernelspec": {
   "display_name": "Python 3",
   "language": "python",
   "name": "python3"
  },
  "language_info": {
   "codemirror_mode": {
    "name": "ipython",
    "version": 3
   },
   "file_extension": ".py",
   "mimetype": "text/x-python",
   "name": "python",
   "nbconvert_exporter": "python",
   "pygments_lexer": "ipython3",
   "version": "3.6.2"
  }
 },
 "nbformat": 4,
 "nbformat_minor": 2
}
